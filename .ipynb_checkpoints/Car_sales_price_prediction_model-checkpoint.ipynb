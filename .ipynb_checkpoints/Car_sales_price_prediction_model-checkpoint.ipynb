{
 "cells": [
  {
   "cell_type": "markdown",
   "id": "298376c1-6883-4f19-8af2-8f639680c5fe",
   "metadata": {},
   "source": [
    "# Car sales price prediction\n",
    "\n",
    "**Author:** Mariana Khachatryan\n",
    "**Email:** marishnem@gmail.com\n",
    "**Date:** 2024-11-21"
   ]
  },
  {
   "cell_type": "code",
   "execution_count": 1,
   "id": "72092ed2-0a9c-412a-a10a-b37ae7bc3d4c",
   "metadata": {},
   "outputs": [],
   "source": [
    "import matplotlib.pyplot as plt\n",
    "import numpy as np\n",
    "import pandas as pd\n",
    "import seaborn as sns\n",
    "from scipy import stats\n",
    "\n",
    "from sklearn.linear_model import LinearRegression\n",
    "from sklearn.linear_model import ElasticNet\n",
    "from sklearn.model_selection import GridSearchCV\n",
    "from sklearn.metrics import mean_absolute_error, mean_squared_error, mean_absolute_percentage_error,r2_score"
   ]
  },
  {
   "cell_type": "code",
   "execution_count": 2,
   "id": "4335f8e4-424f-475c-bc4b-74327012c867",
   "metadata": {},
   "outputs": [],
   "source": [
    "#I have defined the dat class in Data_prep.py code to get data from file and prepare for analysis\n",
    "from Data_prep import dat"
   ]
  },
  {
   "cell_type": "code",
   "execution_count": 3,
   "id": "e121a495-db68-4141-be45-ae87fa25cc57",
   "metadata": {},
   "outputs": [],
   "source": [
    "#In this analysis we are using the following data https://www.kaggle.com/datasets/nehalbirla/vehicle-dataset-from-cardekho\n",
    "#we are trying to predict car prices based on different features\n",
    "datobj=dat(\"Car_details_v3_cleaned.csv\",\"selling_price\",0.2,42)\n",
    "df=datobj.df"
   ]
  },
  {
   "cell_type": "code",
   "execution_count": 4,
   "id": "9352adcd-3263-4d38-8168-484b85b08e64",
   "metadata": {},
   "outputs": [
    {
     "name": "stdout",
     "output_type": "stream",
     "text": [
      "<class 'pandas.core.frame.DataFrame'>\n",
      "Index: 6267 entries, 0 to 8125\n",
      "Data columns (total 12 columns):\n",
      " #   Column                        Non-Null Count  Dtype  \n",
      "---  ------                        --------------  -----  \n",
      " 0   year                          6267 non-null   int64  \n",
      " 1   selling_price                 6267 non-null   int64  \n",
      " 2   km_driven                     6267 non-null   int64  \n",
      " 3   mileage                       6267 non-null   float64\n",
      " 4   engine                        6267 non-null   float64\n",
      " 5   max_power                     6267 non-null   float64\n",
      " 6   fuel_Petrol                   6267 non-null   bool   \n",
      " 7   seller_type_Individual        6267 non-null   bool   \n",
      " 8   transmission_Manual           6267 non-null   bool   \n",
      " 9   owner_Second Owner            6267 non-null   bool   \n",
      " 10  owner_Third and above owners  6267 non-null   bool   \n",
      " 11  seat_category_more than 5     6267 non-null   bool   \n",
      "dtypes: bool(6), float64(3), int64(3)\n",
      "memory usage: 379.4 KB\n"
     ]
    }
   ],
   "source": [
    "df.info()"
   ]
  },
  {
   "cell_type": "code",
   "execution_count": 5,
   "id": "208ba608-6030-4662-ac2c-d19f29cad1d5",
   "metadata": {},
   "outputs": [],
   "source": [
    "df=df.astype(float)"
   ]
  },
  {
   "cell_type": "code",
   "execution_count": 6,
   "id": "cb7d11ac-142b-4ec8-b96d-e537a7691df7",
   "metadata": {},
   "outputs": [
    {
     "name": "stdout",
     "output_type": "stream",
     "text": [
      "<class 'pandas.core.frame.DataFrame'>\n",
      "Index: 6267 entries, 0 to 8125\n",
      "Data columns (total 12 columns):\n",
      " #   Column                        Non-Null Count  Dtype  \n",
      "---  ------                        --------------  -----  \n",
      " 0   year                          6267 non-null   float64\n",
      " 1   selling_price                 6267 non-null   float64\n",
      " 2   km_driven                     6267 non-null   float64\n",
      " 3   mileage                       6267 non-null   float64\n",
      " 4   engine                        6267 non-null   float64\n",
      " 5   max_power                     6267 non-null   float64\n",
      " 6   fuel_Petrol                   6267 non-null   float64\n",
      " 7   seller_type_Individual        6267 non-null   float64\n",
      " 8   transmission_Manual           6267 non-null   float64\n",
      " 9   owner_Second Owner            6267 non-null   float64\n",
      " 10  owner_Third and above owners  6267 non-null   float64\n",
      " 11  seat_category_more than 5     6267 non-null   float64\n",
      "dtypes: float64(12)\n",
      "memory usage: 636.5 KB\n"
     ]
    }
   ],
   "source": [
    "df.info()"
   ]
  },
  {
   "cell_type": "code",
   "execution_count": 7,
   "id": "67e8b99c-46e8-456a-8dd7-aa99c1250240",
   "metadata": {},
   "outputs": [
    {
     "data": {
      "text/html": [
       "<div>\n",
       "<style scoped>\n",
       "    .dataframe tbody tr th:only-of-type {\n",
       "        vertical-align: middle;\n",
       "    }\n",
       "\n",
       "    .dataframe tbody tr th {\n",
       "        vertical-align: top;\n",
       "    }\n",
       "\n",
       "    .dataframe thead th {\n",
       "        text-align: right;\n",
       "    }\n",
       "</style>\n",
       "<table border=\"1\" class=\"dataframe\">\n",
       "  <thead>\n",
       "    <tr style=\"text-align: right;\">\n",
       "      <th></th>\n",
       "      <th>year</th>\n",
       "      <th>selling_price</th>\n",
       "      <th>km_driven</th>\n",
       "      <th>mileage</th>\n",
       "      <th>engine</th>\n",
       "      <th>max_power</th>\n",
       "      <th>fuel_Petrol</th>\n",
       "      <th>seller_type_Individual</th>\n",
       "      <th>transmission_Manual</th>\n",
       "      <th>owner_Second Owner</th>\n",
       "      <th>owner_Third and above owners</th>\n",
       "      <th>seat_category_more than 5</th>\n",
       "    </tr>\n",
       "  </thead>\n",
       "  <tbody>\n",
       "    <tr>\n",
       "      <th>count</th>\n",
       "      <td>6267.000000</td>\n",
       "      <td>6.267000e+03</td>\n",
       "      <td>6267.000000</td>\n",
       "      <td>6267.000000</td>\n",
       "      <td>6267.000000</td>\n",
       "      <td>6267.000000</td>\n",
       "      <td>6267.000000</td>\n",
       "      <td>6267.000000</td>\n",
       "      <td>6267.000000</td>\n",
       "      <td>6267.000000</td>\n",
       "      <td>6267.000000</td>\n",
       "      <td>6267.000000</td>\n",
       "    </tr>\n",
       "    <tr>\n",
       "      <th>mean</th>\n",
       "      <td>2013.599968</td>\n",
       "      <td>4.504369e+05</td>\n",
       "      <td>73702.630445</td>\n",
       "      <td>19.699196</td>\n",
       "      <td>1399.672730</td>\n",
       "      <td>84.586747</td>\n",
       "      <td>0.459550</td>\n",
       "      <td>0.908409</td>\n",
       "      <td>0.938886</td>\n",
       "      <td>0.284666</td>\n",
       "      <td>0.097974</td>\n",
       "      <td>0.191320</td>\n",
       "    </tr>\n",
       "    <tr>\n",
       "      <th>std</th>\n",
       "      <td>3.679598</td>\n",
       "      <td>2.541364e+05</td>\n",
       "      <td>47875.436535</td>\n",
       "      <td>3.831312</td>\n",
       "      <td>460.545875</td>\n",
       "      <td>25.625692</td>\n",
       "      <td>0.498401</td>\n",
       "      <td>0.288471</td>\n",
       "      <td>0.239558</td>\n",
       "      <td>0.451291</td>\n",
       "      <td>0.297303</td>\n",
       "      <td>0.393371</td>\n",
       "    </tr>\n",
       "    <tr>\n",
       "      <th>min</th>\n",
       "      <td>2001.000000</td>\n",
       "      <td>3.000000e+04</td>\n",
       "      <td>1000.000000</td>\n",
       "      <td>9.000000</td>\n",
       "      <td>624.000000</td>\n",
       "      <td>34.200000</td>\n",
       "      <td>0.000000</td>\n",
       "      <td>0.000000</td>\n",
       "      <td>0.000000</td>\n",
       "      <td>0.000000</td>\n",
       "      <td>0.000000</td>\n",
       "      <td>0.000000</td>\n",
       "    </tr>\n",
       "    <tr>\n",
       "      <th>25%</th>\n",
       "      <td>2011.000000</td>\n",
       "      <td>2.500000e+05</td>\n",
       "      <td>40000.000000</td>\n",
       "      <td>17.000000</td>\n",
       "      <td>1197.000000</td>\n",
       "      <td>68.000000</td>\n",
       "      <td>0.000000</td>\n",
       "      <td>1.000000</td>\n",
       "      <td>1.000000</td>\n",
       "      <td>0.000000</td>\n",
       "      <td>0.000000</td>\n",
       "      <td>0.000000</td>\n",
       "    </tr>\n",
       "    <tr>\n",
       "      <th>50%</th>\n",
       "      <td>2014.000000</td>\n",
       "      <td>4.000000e+05</td>\n",
       "      <td>70000.000000</td>\n",
       "      <td>19.700000</td>\n",
       "      <td>1248.000000</td>\n",
       "      <td>81.800000</td>\n",
       "      <td>0.000000</td>\n",
       "      <td>1.000000</td>\n",
       "      <td>1.000000</td>\n",
       "      <td>0.000000</td>\n",
       "      <td>0.000000</td>\n",
       "      <td>0.000000</td>\n",
       "    </tr>\n",
       "    <tr>\n",
       "      <th>75%</th>\n",
       "      <td>2017.000000</td>\n",
       "      <td>6.050000e+05</td>\n",
       "      <td>100000.000000</td>\n",
       "      <td>22.540000</td>\n",
       "      <td>1498.000000</td>\n",
       "      <td>98.600000</td>\n",
       "      <td>1.000000</td>\n",
       "      <td>1.000000</td>\n",
       "      <td>1.000000</td>\n",
       "      <td>1.000000</td>\n",
       "      <td>0.000000</td>\n",
       "      <td>0.000000</td>\n",
       "    </tr>\n",
       "    <tr>\n",
       "      <th>max</th>\n",
       "      <td>2020.000000</td>\n",
       "      <td>1.295000e+06</td>\n",
       "      <td>475000.000000</td>\n",
       "      <td>28.400000</td>\n",
       "      <td>3498.000000</td>\n",
       "      <td>272.000000</td>\n",
       "      <td>1.000000</td>\n",
       "      <td>1.000000</td>\n",
       "      <td>1.000000</td>\n",
       "      <td>1.000000</td>\n",
       "      <td>1.000000</td>\n",
       "      <td>1.000000</td>\n",
       "    </tr>\n",
       "  </tbody>\n",
       "</table>\n",
       "</div>"
      ],
      "text/plain": [
       "              year  selling_price      km_driven      mileage       engine  \\\n",
       "count  6267.000000   6.267000e+03    6267.000000  6267.000000  6267.000000   \n",
       "mean   2013.599968   4.504369e+05   73702.630445    19.699196  1399.672730   \n",
       "std       3.679598   2.541364e+05   47875.436535     3.831312   460.545875   \n",
       "min    2001.000000   3.000000e+04    1000.000000     9.000000   624.000000   \n",
       "25%    2011.000000   2.500000e+05   40000.000000    17.000000  1197.000000   \n",
       "50%    2014.000000   4.000000e+05   70000.000000    19.700000  1248.000000   \n",
       "75%    2017.000000   6.050000e+05  100000.000000    22.540000  1498.000000   \n",
       "max    2020.000000   1.295000e+06  475000.000000    28.400000  3498.000000   \n",
       "\n",
       "         max_power  fuel_Petrol  seller_type_Individual  transmission_Manual  \\\n",
       "count  6267.000000  6267.000000             6267.000000          6267.000000   \n",
       "mean     84.586747     0.459550                0.908409             0.938886   \n",
       "std      25.625692     0.498401                0.288471             0.239558   \n",
       "min      34.200000     0.000000                0.000000             0.000000   \n",
       "25%      68.000000     0.000000                1.000000             1.000000   \n",
       "50%      81.800000     0.000000                1.000000             1.000000   \n",
       "75%      98.600000     1.000000                1.000000             1.000000   \n",
       "max     272.000000     1.000000                1.000000             1.000000   \n",
       "\n",
       "       owner_Second Owner  owner_Third and above owners  \\\n",
       "count         6267.000000                   6267.000000   \n",
       "mean             0.284666                      0.097974   \n",
       "std              0.451291                      0.297303   \n",
       "min              0.000000                      0.000000   \n",
       "25%              0.000000                      0.000000   \n",
       "50%              0.000000                      0.000000   \n",
       "75%              1.000000                      0.000000   \n",
       "max              1.000000                      1.000000   \n",
       "\n",
       "       seat_category_more than 5  \n",
       "count                6267.000000  \n",
       "mean                    0.191320  \n",
       "std                     0.393371  \n",
       "min                     0.000000  \n",
       "25%                     0.000000  \n",
       "50%                     0.000000  \n",
       "75%                     0.000000  \n",
       "max                     1.000000  "
      ]
     },
     "execution_count": 7,
     "metadata": {},
     "output_type": "execute_result"
    }
   ],
   "source": [
    "df.describe()"
   ]
  },
  {
   "cell_type": "code",
   "execution_count": 8,
   "id": "d3b8faa2-a69e-4ee5-aefd-a22527f8ba53",
   "metadata": {},
   "outputs": [
    {
     "data": {
      "text/plain": [
       "fuel_Petrol   -0.322558\n",
       "Name: selling_price, dtype: float64"
      ]
     },
     "execution_count": 8,
     "metadata": {},
     "output_type": "execute_result"
    }
   ],
   "source": [
    "df_corr=df.corr()\n",
    "df_corr[\"selling_price\"].nsmallest(1)"
   ]
  },
  {
   "cell_type": "code",
   "execution_count": 9,
   "id": "20d50149-d8fe-4bb6-b333-c05d6678d0c0",
   "metadata": {},
   "outputs": [
    {
     "data": {
      "text/plain": [
       "selling_price    1.000000\n",
       "year             0.629347\n",
       "Name: selling_price, dtype: float64"
      ]
     },
     "execution_count": 9,
     "metadata": {},
     "output_type": "execute_result"
    }
   ],
   "source": [
    "df_corr[\"selling_price\"].nlargest(2)"
   ]
  },
  {
   "cell_type": "code",
   "execution_count": 10,
   "id": "f8ff137f-3dac-4831-9da5-6a834e4afc14",
   "metadata": {},
   "outputs": [
    {
     "data": {
      "text/plain": [
       "<Axes: xlabel='max_power', ylabel='selling_price'>"
      ]
     },
     "execution_count": 10,
     "metadata": {},
     "output_type": "execute_result"
    },
    {
     "data": {
      "image/png": "[encoded data removed]",
      "text/plain": [
       "<Figure size 640x480 with 1 Axes>"
      ]
     },
     "metadata": {},
     "output_type": "display_data"
    }
   ],
   "source": [
    "#The highest correlation of \"selling_price\" is with \"max_power\" feature\n",
    "sns.scatterplot(data=df,y=\"selling_price\",x=\"max_power\")"
   ]
  },
  {
   "cell_type": "code",
   "execution_count": 11,
   "id": "da42c0c0-84a1-4084-827b-99df54cc9e8b",
   "metadata": {},
   "outputs": [
    {
     "name": "stderr",
     "output_type": "stream",
     "text": [
      "C:\\Users\\17573\\anaconda3\\Lib\\site-packages\\seaborn\\_oldcore.py:1119: FutureWarning: use_inf_as_na option is deprecated and will be removed in a future version. Convert inf values to NaN before operating instead.\n",
      "  with pd.option_context('mode.use_inf_as_na', True):\n"
     ]
    },
    {
     "data": {
      "text/plain": [
       "<seaborn.axisgrid.FacetGrid at 0x250a4acfed0>"
      ]
     },
     "execution_count": 11,
     "metadata": {},
     "output_type": "execute_result"
    },
    {
     "data": {
      "image/png": "[encoded data removed]",
      "text/plain": [
       "<Figure size 500x500 with 1 Axes>"
      ]
     },
     "metadata": {},
     "output_type": "display_data"
    }
   ],
   "source": [
    "sns.displot(data=df,x=\"selling_price\")"
   ]
  },
  {
   "cell_type": "code",
   "execution_count": null,
   "id": "46f9a6d2-30a1-4897-98ae-4dd4d1dcdf78",
   "metadata": {},
   "outputs": [],
   "source": []
  },
  {
   "cell_type": "code",
   "execution_count": 12,
   "id": "a7358f56-43af-4fcd-a729-54e42a1dd238",
   "metadata": {},
   "outputs": [],
   "source": [
    "# Split data into training and test samples and Scale feature data using Standard Scaler\n",
    "datobj.scale_dat()\n",
    "X_train=datobj.X_train\n",
    "X_test=datobj.X_test\n",
    "y_train=datobj.y_train\n",
    "y_test=datobj.y_test"
   ]
  },
  {
   "cell_type": "code",
   "execution_count": 13,
   "id": "ec1560f6-14a4-4a40-b7c3-36f03570f048",
   "metadata": {
    "scrolled": true
   },
   "outputs": [
    {
     "data": {
      "text/plain": [
       "array([[ 0.91878747, -1.12407775,  2.2832783 , ..., -0.62989515,\n",
       "        -0.33211294, -0.48887778],\n",
       "       [ 0.37509608,  0.13663369,  1.80966393, ..., -0.62989515,\n",
       "        -0.33211294, -0.48887778],\n",
       "       [ 0.37509608, -1.01901846, -0.20254301, ..., -0.62989515,\n",
       "        -0.33211294, -0.48887778],\n",
       "       ...,\n",
       "       [-0.440441  ,  1.01448808, -1.99495101, ..., -0.62989515,\n",
       "        -0.33211294,  2.04550103],\n",
       "       [ 0.37509608,  2.09073643, -0.96137267, ..., -0.62989515,\n",
       "        -0.33211294,  2.04550103],\n",
       "       [-0.16859531, -0.01044931, -1.74898553, ..., -0.62989515,\n",
       "        -0.33211294,  2.04550103]])"
      ]
     },
     "execution_count": 13,
     "metadata": {},
     "output_type": "execute_result"
    }
   ],
   "source": [
    "X_test"
   ]
  },
  {
   "cell_type": "code",
   "execution_count": 14,
   "id": "3d139d17-a42a-40e5-b36d-4dad393a3886",
   "metadata": {},
   "outputs": [],
   "source": [
    "#In order not to have the label in a very different scale than features, we will scale labels by dividing by 10^5\n",
    "units=100000\n",
    "y_train=y_train/units\n",
    "y_test=y_test/units"
   ]
  },
  {
   "cell_type": "code",
   "execution_count": 15,
   "id": "3fc4b1d4-4211-4d54-837d-1cdf6df50f91",
   "metadata": {},
   "outputs": [
    {
     "data": {
      "text/plain": [
       "1199    6.10000\n",
       "1646    4.00000\n",
       "4054    2.29999\n",
       "6473    2.95000\n",
       "8041    0.90000\n",
       "         ...   \n",
       "4836    2.40000\n",
       "6675    6.10000\n",
       "6734    5.50000\n",
       "6935    2.82000\n",
       "1014    9.00000\n",
       "Name: selling_price, Length: 5013, dtype: float64"
      ]
     },
     "execution_count": 15,
     "metadata": {},
     "output_type": "execute_result"
    }
   ],
   "source": [
    "y_train"
   ]
  },
  {
   "cell_type": "markdown",
   "id": "dd46d612-68e2-4744-a886-8def8f9abc8e",
   "metadata": {},
   "source": [
    "# Base model"
   ]
  },
  {
   "cell_type": "code",
   "execution_count": 16,
   "id": "747dfb5e-b136-4cbc-aea8-0612136511dd",
   "metadata": {},
   "outputs": [],
   "source": [
    "lr_model=LinearRegression()\n",
    "#lr_model=ElasticNet()"
   ]
  },
  {
   "cell_type": "code",
   "execution_count": 17,
   "id": "66b6c06e-bf74-45d5-9c26-374af6d6146c",
   "metadata": {},
   "outputs": [
    {
     "data": {
      "text/html": [
       "<style>#sk-container-id-1 {color: black;background-color: white;}#sk-container-id-1 pre{padding: 0;}#sk-container-id-1 div.sk-toggleable {background-color: white;}#sk-container-id-1 label.sk-toggleable__label {cursor: pointer;display: block;width: 100%;margin-bottom: 0;padding: 0.3em;box-sizing: border-box;text-align: center;}#sk-container-id-1 label.sk-toggleable__label-arrow:before {content: \"▸\";float: left;margin-right: 0.25em;color: #696969;}#sk-container-id-1 label.sk-toggleable__label-arrow:hover:before {color: black;}#sk-container-id-1 div.sk-estimator:hover label.sk-toggleable__label-arrow:before {color: black;}#sk-container-id-1 div.sk-toggleable__content {max-height: 0;max-width: 0;overflow: hidden;text-align: left;background-color: #f0f8ff;}#sk-container-id-1 div.sk-toggleable__content pre {margin: 0.2em;color: black;border-radius: 0.25em;background-color: #f0f8ff;}#sk-container-id-1 input.sk-toggleable__control:checked~div.sk-toggleable__content {max-height: 200px;max-width: 100%;overflow: auto;}#sk-container-id-1 input.sk-toggleable__control:checked~label.sk-toggleable__label-arrow:before {content: \"▾\";}#sk-container-id-1 div.sk-estimator input.sk-toggleable__control:checked~label.sk-toggleable__label {background-color: #d4ebff;}#sk-container-id-1 div.sk-label input.sk-toggleable__control:checked~label.sk-toggleable__label {background-color: #d4ebff;}#sk-container-id-1 input.sk-hidden--visually {border: 0;clip: rect(1px 1px 1px 1px);clip: rect(1px, 1px, 1px, 1px);height: 1px;margin: -1px;overflow: hidden;padding: 0;position: absolute;width: 1px;}#sk-container-id-1 div.sk-estimator {font-family: monospace;background-color: #f0f8ff;border: 1px dotted black;border-radius: 0.25em;box-sizing: border-box;margin-bottom: 0.5em;}#sk-container-id-1 div.sk-estimator:hover {background-color: #d4ebff;}#sk-container-id-1 div.sk-parallel-item::after {content: \"\";width: 100%;border-bottom: 1px solid gray;flex-grow: 1;}#sk-container-id-1 div.sk-label:hover label.sk-toggleable__label {background-color: #d4ebff;}#sk-container-id-1 div.sk-serial::before {content: \"\";position: absolute;border-left: 1px solid gray;box-sizing: border-box;top: 0;bottom: 0;left: 50%;z-index: 0;}#sk-container-id-1 div.sk-serial {display: flex;flex-direction: column;align-items: center;background-color: white;padding-right: 0.2em;padding-left: 0.2em;position: relative;}#sk-container-id-1 div.sk-item {position: relative;z-index: 1;}#sk-container-id-1 div.sk-parallel {display: flex;align-items: stretch;justify-content: center;background-color: white;position: relative;}#sk-container-id-1 div.sk-item::before, #sk-container-id-1 div.sk-parallel-item::before {content: \"\";position: absolute;border-left: 1px solid gray;box-sizing: border-box;top: 0;bottom: 0;left: 50%;z-index: -1;}#sk-container-id-1 div.sk-parallel-item {display: flex;flex-direction: column;z-index: 1;position: relative;background-color: white;}#sk-container-id-1 div.sk-parallel-item:first-child::after {align-self: flex-end;width: 50%;}#sk-container-id-1 div.sk-parallel-item:last-child::after {align-self: flex-start;width: 50%;}#sk-container-id-1 div.sk-parallel-item:only-child::after {width: 0;}#sk-container-id-1 div.sk-dashed-wrapped {border: 1px dashed gray;margin: 0 0.4em 0.5em 0.4em;box-sizing: border-box;padding-bottom: 0.4em;background-color: white;}#sk-container-id-1 div.sk-label label {font-family: monospace;font-weight: bold;display: inline-block;line-height: 1.2em;}#sk-container-id-1 div.sk-label-container {text-align: center;}#sk-container-id-1 div.sk-container {/* jupyter's `normalize.less` sets `[hidden] { display: none; }` but bootstrap.min.css set `[hidden] { display: none !important; }` so we also need the `!important` here to be able to override the default hidden behavior on the sphinx rendered scikit-learn.org. See: https://github.com/scikit-learn/scikit-learn/issues/21755 */display: inline-block !important;position: relative;}#sk-container-id-1 div.sk-text-repr-fallback {display: none;}</style><div id=\"sk-container-id-1\" class=\"sk-top-container\"><div class=\"sk-text-repr-fallback\"><pre>LinearRegression()</pre><b>In a Jupyter environment, please rerun this cell to show the HTML representation or trust the notebook. <br />On GitHub, the HTML representation is unable to render, please try loading this page with nbviewer.org.</b></div><div class=\"sk-container\" hidden><div class=\"sk-item\"><div class=\"sk-estimator sk-toggleable\"><input class=\"sk-toggleable__control sk-hidden--visually\" id=\"sk-estimator-id-1\" type=\"checkbox\" checked><label for=\"sk-estimator-id-1\" class=\"sk-toggleable__label sk-toggleable__label-arrow\">LinearRegression</label><div class=\"sk-toggleable__content\"><pre>LinearRegression()</pre></div></div></div></div></div>"
      ],
      "text/plain": [
       "LinearRegression()"
      ]
     },
     "execution_count": 17,
     "metadata": {},
     "output_type": "execute_result"
    }
   ],
   "source": [
    "lr_model.fit(X_train,y_train)"
   ]
  },
  {
   "cell_type": "code",
   "execution_count": 18,
   "id": "fee1de20-3fe7-4843-9af4-dafb4da57958",
   "metadata": {},
   "outputs": [],
   "source": [
    "lr_preds=lr_model.predict(X_test)"
   ]
  },
  {
   "cell_type": "code",
   "execution_count": 19,
   "id": "5f73ed13-b7ad-4ddb-b80c-b9d7d9493a43",
   "metadata": {},
   "outputs": [
    {
     "data": {
      "text/plain": [
       "array([5.95547599, 4.89487644, 4.5277701 , ..., 6.20999659, 7.83685641,\n",
       "       6.2521134 ])"
      ]
     },
     "execution_count": 19,
     "metadata": {},
     "output_type": "execute_result"
    }
   ],
   "source": [
    "lr_preds"
   ]
  },
  {
   "cell_type": "code",
   "execution_count": 20,
   "id": "6097eb66-61ab-4ce1-b033-2dd4220b6911",
   "metadata": {},
   "outputs": [
    {
     "data": {
      "text/plain": [
       "1.0151288411251516"
      ]
     },
     "execution_count": 20,
     "metadata": {},
     "output_type": "execute_result"
    }
   ],
   "source": [
    "mean_absolute_error(y_test,lr_preds)"
   ]
  },
  {
   "cell_type": "code",
   "execution_count": 21,
   "id": "d6f30340-1018-4d80-9652-5bfcb75ab572",
   "metadata": {},
   "outputs": [
    {
     "data": {
      "text/plain": [
       "1.3510448845409988"
      ]
     },
     "execution_count": 21,
     "metadata": {},
     "output_type": "execute_result"
    }
   ],
   "source": [
    "np.sqrt(mean_squared_error(y_test,lr_preds))"
   ]
  },
  {
   "cell_type": "code",
   "execution_count": 22,
   "id": "2a5b5ba3-6743-4a69-9646-d24863cc78b2",
   "metadata": {},
   "outputs": [
    {
     "data": {
      "text/plain": [
       "0.7265125706132686"
      ]
     },
     "execution_count": 22,
     "metadata": {},
     "output_type": "execute_result"
    }
   ],
   "source": [
    "#proportion of variance in the target variable that is explained by the model. \n",
    "#Values range from 0 to 1, with higher values indicating a better fit.\n",
    "r2_score(y_test,lr_preds)"
   ]
  },
  {
   "cell_type": "code",
   "execution_count": 23,
   "id": "7a98fc91-a0b0-47e9-83d7-360c15c33cbe",
   "metadata": {},
   "outputs": [
    {
     "data": {
      "text/plain": [
       "32.55784564184184"
      ]
     },
     "execution_count": 23,
     "metadata": {},
     "output_type": "execute_result"
    }
   ],
   "source": [
    "# Calculate MAPE\n",
    "mean_absolute_percentage_error(y_test,lr_preds)*100 #multiply by 100 to express in percentage"
   ]
  },
  {
   "cell_type": "code",
   "execution_count": 24,
   "id": "6d7694b3-2b16-405a-add9-e4ce930ed14f",
   "metadata": {},
   "outputs": [],
   "source": [
    "y_test_list=y_test.tolist()"
   ]
  },
  {
   "cell_type": "code",
   "execution_count": 25,
   "id": "e6a19a51-ec34-482d-bc1d-df1b3e91ede4",
   "metadata": {},
   "outputs": [],
   "source": [
    "residuals=[lr_preds[i]-y_test_list[i] for i in range(0,len(y_test_list))]"
   ]
  },
  {
   "cell_type": "code",
   "execution_count": 26,
   "id": "bcd9c500-afdd-4c44-98e8-aa77d77acee5",
   "metadata": {},
   "outputs": [
    {
     "data": {
      "image/png": "[encoded data removed]",
      "text/plain": [
       "<Figure size 640x480 with 1 Axes>"
      ]
     },
     "metadata": {},
     "output_type": "display_data"
    }
   ],
   "source": [
    "#Checking Homoscedasticity\n",
    "sns.scatterplot(x=y_test_list,y=residuals)\n",
    "plt.ylabel(\"Residuals\")\n",
    "plt.xlabel(\"y_test\")\n",
    "plt.axhline(y=0,color='r',linestyle=':')\n",
    "plt.savefig(\"Plots/Homoscedasticity.png\",bbox_inches=\"tight\")\n",
    "# There is a difference between variations in one part of \n",
    "#the data and the other"
   ]
  },
  {
   "cell_type": "code",
   "execution_count": 27,
   "id": "3cff0622-6b9d-46c6-8591-046207e51c29",
   "metadata": {},
   "outputs": [
    {
     "data": {
      "image/png": "[encoded data removed]",
      "text/plain": [
       "<Figure size 640x480 with 1 Axes>"
      ]
     },
     "metadata": {},
     "output_type": "display_data"
    }
   ],
   "source": [
    "#Checking Normality\n",
    "stats.probplot(residuals, dist=\"norm\", plot=plt)\n",
    "plt.savefig(\"Plots/Normality.png\",bbox_inches=\"tight\")\n",
    "plt.show()\n",
    "\n",
    "#distribution is normal since points lie approximately at 45 degree reference line"
   ]
  },
  {
   "cell_type": "code",
   "execution_count": null,
   "id": "7fa541ea-1f02-4935-884b-64930a54098e",
   "metadata": {},
   "outputs": [],
   "source": []
  },
  {
   "cell_type": "code",
   "execution_count": null,
   "id": "fdc2854c-b657-4549-83cb-8ff1d44e96c0",
   "metadata": {},
   "outputs": [],
   "source": []
  },
  {
   "cell_type": "code",
   "execution_count": null,
   "id": "34805bd1-a90a-4d08-8402-4534be84920d",
   "metadata": {},
   "outputs": [],
   "source": []
  },
  {
   "cell_type": "markdown",
   "id": "d1a5738c-273e-4ef2-b29a-c17dbebfea8b",
   "metadata": {},
   "source": [
    "# Try other regression models"
   ]
  },
  {
   "cell_type": "code",
   "execution_count": 28,
   "id": "1381d261-3001-411f-a0ff-287bc5e57379",
   "metadata": {},
   "outputs": [],
   "source": [
    "def run_model(model,X_train,y_train,X_test,y_test):\n",
    "\n",
    "    #Model fit\n",
    "    model.fit(X_train,y_train)\n",
    "\n",
    "    #Model predict\n",
    "    preds=model.predict(X_test)\n",
    "    rmse=np.sqrt(mean_squared_error(y_test,preds))\n",
    "    mae=mean_absolute_error(y_test,preds)\n",
    "    mape=mean_absolute_percentage_error(y_test,preds)*100\n",
    "    r2 = r2_score(y_test,preds)\n",
    "    print(\"MAE:{}\".format(mae))\n",
    "    print(\"RMSE:{}\".format(rmse))\n",
    "    print(\"Mean Absolute Percentage Error (MAPE):\", mape)\n",
    "    print(\"R² Score:\", r2)"
   ]
  },
  {
   "cell_type": "markdown",
   "id": "48375452-6f41-46a8-a736-0d2687f85155",
   "metadata": {},
   "source": [
    "## Polynomial regression"
   ]
  },
  {
   "cell_type": "code",
   "execution_count": 29,
   "id": "a1673faa-611c-465b-a9ba-c6924ecd0736",
   "metadata": {},
   "outputs": [],
   "source": [
    "from sklearn.pipeline import make_pipeline\n",
    "from sklearn.preprocessing import PolynomialFeatures"
   ]
  },
  {
   "cell_type": "code",
   "execution_count": 30,
   "id": "8a4ec69c-9d64-4a82-ab7e-a2865ec4e3e0",
   "metadata": {},
   "outputs": [
    {
     "name": "stdout",
     "output_type": "stream",
     "text": [
      "MAE:0.8132910982551149\n",
      "RMSE:1.1159394996394565\n",
      "Mean Absolute Percentage Error (MAPE): 22.57557982780111\n",
      "R² Score: 0.8134139742279146\n",
      "MAE:20656266.924902774\n",
      "RMSE:731476853.7111082\n",
      "Mean Absolute Percentage Error (MAPE): 645508338.5427217\n",
      "R² Score: -8.016762002694413e+16\n"
     ]
    }
   ],
   "source": [
    "pol_deg=[2,3]\n",
    "for ind in pol_deg:\n",
    "    pipe=make_pipeline(PolynomialFeatures(degree=ind),LinearRegression())\n",
    "    run_model(pipe,X_train,y_train,X_test,y_test)"
   ]
  },
  {
   "cell_type": "code",
   "execution_count": null,
   "id": "2461dcf6-7784-47e5-9713-dba59857ea85",
   "metadata": {},
   "outputs": [],
   "source": []
  },
  {
   "cell_type": "markdown",
   "id": "3986cb99-c46e-4cac-aabb-586baab6c306",
   "metadata": {},
   "source": [
    "## KNN regressor"
   ]
  },
  {
   "cell_type": "code",
   "execution_count": 31,
   "id": "1e67dc2e-9a79-4b16-834d-5e6304fca290",
   "metadata": {},
   "outputs": [],
   "source": [
    "from sklearn.neighbors import KNeighborsRegressor"
   ]
  },
  {
   "cell_type": "code",
   "execution_count": 32,
   "id": "96b60f87-228d-467b-9782-01b15a5e7e97",
   "metadata": {},
   "outputs": [],
   "source": [
    "k_values=[1,5,10]"
   ]
  },
  {
   "cell_type": "code",
   "execution_count": 33,
   "id": "89a15b90-b039-4231-83aa-3156df600045",
   "metadata": {},
   "outputs": [
    {
     "name": "stdout",
     "output_type": "stream",
     "text": [
      "MAE:0.9100825358851675\n",
      "RMSE:1.3358560987762862\n",
      "Mean Absolute Percentage Error (MAPE): 24.23186680945302\n",
      "R² Score: 0.7326272337044955\n",
      "MAE:0.7767348692185008\n",
      "RMSE:1.1327912638726538\n",
      "Mean Absolute Percentage Error (MAPE): 21.875541240108003\n",
      "R² Score: 0.8077361669130906\n",
      "MAE:0.8014007703349283\n",
      "RMSE:1.1307809124445998\n",
      "Mean Absolute Percentage Error (MAPE): 23.196033062399945\n",
      "R² Score: 0.8084179781334786\n"
     ]
    }
   ],
   "source": [
    "for n in k_values:\n",
    "    model=KNeighborsRegressor(n_neighbors=n)\n",
    "    run_model(model,X_train,y_train,X_test,y_test)"
   ]
  },
  {
   "cell_type": "code",
   "execution_count": 34,
   "id": "51fe9c5a-5f8a-4726-be17-0646115b4d12",
   "metadata": {},
   "outputs": [],
   "source": [
    "#High variance with low k, higher k high bias"
   ]
  },
  {
   "cell_type": "markdown",
   "id": "a9608184-d781-4935-9817-c6fa8a0f4d11",
   "metadata": {},
   "source": [
    "## Support Vector Regressor"
   ]
  },
  {
   "cell_type": "code",
   "execution_count": 35,
   "id": "d7c2a9b5-a9e3-43b1-bea4-6cc188219618",
   "metadata": {},
   "outputs": [],
   "source": [
    "from sklearn.svm import SVR"
   ]
  },
  {
   "cell_type": "code",
   "execution_count": 36,
   "id": "4946655f-e5c5-426e-b87e-570398eeb825",
   "metadata": {},
   "outputs": [],
   "source": [
    "svr=SVR()\n",
    "param_grid={\"C\":[1,10,100],\"gamma\":[\"auto\",\"scale\"]} #C is inversely proportional to reg. par.\n",
    "grid=GridSearchCV(svr,param_grid)"
   ]
  },
  {
   "cell_type": "code",
   "execution_count": null,
   "id": "14fc7e07-4481-4565-9b45-ec1ca7fc53c1",
   "metadata": {},
   "outputs": [],
   "source": [
    "run_model(grid,X_train,y_train,X_test,y_test)"
   ]
  },
  {
   "cell_type": "code",
   "execution_count": null,
   "id": "555866cc-df94-4905-80be-03db31d291d7",
   "metadata": {},
   "outputs": [],
   "source": [
    "grid.best_params_"
   ]
  },
  {
   "cell_type": "markdown",
   "id": "85375a2a-fb7a-40a4-8d1c-09d55cf4a840",
   "metadata": {},
   "source": [
    "## Random Forest Regression"
   ]
  },
  {
   "cell_type": "code",
   "execution_count": null,
   "id": "9a6eecca-185f-4895-8703-1da59e5df899",
   "metadata": {},
   "outputs": [],
   "source": [
    "from sklearn.ensemble import RandomForestRegressor"
   ]
  },
  {
   "cell_type": "code",
   "execution_count": null,
   "id": "3ab3792e-ed8b-4073-a188-f662544cd75a",
   "metadata": {},
   "outputs": [],
   "source": [
    "rfr=RandomForestRegressor(n_estimators=10)"
   ]
  },
  {
   "cell_type": "code",
   "execution_count": null,
   "id": "c5e1f4e7-353d-4cbe-92bc-cb7da2a518b9",
   "metadata": {},
   "outputs": [],
   "source": [
    "run_model(rfr,X_train,y_train,X_test,y_test)"
   ]
  },
  {
   "cell_type": "code",
   "execution_count": null,
   "id": "2b47b7c0-7c49-4dbc-bad4-cdec71744bba",
   "metadata": {},
   "outputs": [],
   "source": []
  },
  {
   "cell_type": "markdown",
   "id": "bee1884e-333b-4a1b-b4cf-da73c8a80617",
   "metadata": {},
   "source": [
    "## Gradient Boost Regressor"
   ]
  },
  {
   "cell_type": "code",
   "execution_count": null,
   "id": "e38085fe-cc88-45ba-9c3a-117203225fcd",
   "metadata": {},
   "outputs": [],
   "source": [
    "from sklearn.ensemble import GradientBoostingRegressor"
   ]
  },
  {
   "cell_type": "code",
   "execution_count": null,
   "id": "8a98cfdf-74e6-4f89-a078-ef8c93b2002e",
   "metadata": {},
   "outputs": [],
   "source": [
    "gboost=GradientBoostingRegressor()"
   ]
  },
  {
   "cell_type": "code",
   "execution_count": null,
   "id": "cf0af9b4-7879-42c3-ac39-580e7eb80708",
   "metadata": {},
   "outputs": [],
   "source": [
    "param_grid={\"n_estimators\":[50,100],\"learning_rate\":[0.1,0.2,0.3],\"max_depth\":[3,5]}"
   ]
  },
  {
   "cell_type": "code",
   "execution_count": null,
   "id": "23f5206a-00dc-447a-b4f9-60bae0e0b68c",
   "metadata": {},
   "outputs": [],
   "source": [
    "grid=GridSearchCV(gboost,param_grid,scoring='neg_mean_squared_error', cv=5)"
   ]
  },
  {
   "cell_type": "code",
   "execution_count": null,
   "id": "56aa7ca9-68f1-4ebe-8303-07cf43dcea3f",
   "metadata": {},
   "outputs": [],
   "source": [
    "run_model(grid,X_train,y_train,X_test,y_test)"
   ]
  },
  {
   "cell_type": "code",
   "execution_count": null,
   "id": "b7acd0f5-711c-4db4-aaad-90f4504719d7",
   "metadata": {},
   "outputs": [],
   "source": [
    "grid.best_params_"
   ]
  },
  {
   "cell_type": "code",
   "execution_count": null,
   "id": "5aa09c84-76d9-4889-9fc7-fe5decc8ce7e",
   "metadata": {},
   "outputs": [],
   "source": []
  },
  {
   "cell_type": "markdown",
   "id": "6c0bdcdb-ff9c-4d25-a564-1304522b2b3f",
   "metadata": {},
   "source": [
    "# XGBoost"
   ]
  },
  {
   "cell_type": "code",
   "execution_count": null,
   "id": "a37a631f-4e0c-4f5a-90a0-b08deb921892",
   "metadata": {},
   "outputs": [],
   "source": [
    "import xgboost as xgb"
   ]
  },
  {
   "cell_type": "code",
   "execution_count": null,
   "id": "1d886f23-83db-4c89-b4c2-1350d5e65ea3",
   "metadata": {},
   "outputs": [],
   "source": [
    "xg_reg = xgb.XGBRegressor()"
   ]
  },
  {
   "cell_type": "code",
   "execution_count": null,
   "id": "076274df-6fc4-414c-9fcd-4a0dedb9a6af",
   "metadata": {},
   "outputs": [],
   "source": [
    "param_grid={\"n_estimators\":[50,100],\"learning_rate\":[0.1,0.2,0.3],\"max_depth\":[3,5]} # Number of trees (boosting rounds), Step size shrinkage, Maximum depth of a tree\n",
    "grid=GridSearchCV(xg_reg,param_grid, scoring='neg_mean_squared_error', cv=5)"
   ]
  },
  {
   "cell_type": "code",
   "execution_count": null,
   "id": "88c7363a-a39b-45b7-b94a-81e98e1e2f95",
   "metadata": {},
   "outputs": [],
   "source": [
    "run_model(grid,X_train,y_train,X_test,y_test)"
   ]
  },
  {
   "cell_type": "code",
   "execution_count": null,
   "id": "086b1e93-732f-401f-a9b3-48211f4efd6e",
   "metadata": {},
   "outputs": [],
   "source": [
    "grid.best_params_"
   ]
  },
  {
   "cell_type": "markdown",
   "id": "82353a18-4e7e-46a0-8ecd-50a7f023496d",
   "metadata": {},
   "source": [
    "# PCA"
   ]
  },
  {
   "cell_type": "code",
   "execution_count": null,
   "id": "747137d3-1768-40b3-b255-daf9f3327297",
   "metadata": {},
   "outputs": [],
   "source": [
    "from sklearn.decomposition import PCA"
   ]
  },
  {
   "cell_type": "markdown",
   "id": "701ec3e1-1f1a-47dd-946c-24f90932fa34",
   "metadata": {},
   "source": [
    "### ElasticNet"
   ]
  },
  {
   "cell_type": "code",
   "execution_count": null,
   "id": "e923f326-f31a-4317-8ab7-c9b4eec59548",
   "metadata": {},
   "outputs": [],
   "source": [
    "# Create the pipeline with make_pipeline\n",
    "pipeline = make_pipeline(\n",
    "PCA(n_components=5),         # Reduces dimensionality to 5 components\n",
    "ElasticNet(alpha=0.5, l1_ratio=0.5, random_state=42)  # ElasticNet with regularization\n",
    ")"
   ]
  },
  {
   "cell_type": "code",
   "execution_count": null,
   "id": "aebca66c-b60c-41dc-9e02-eb74b71743ad",
   "metadata": {},
   "outputs": [],
   "source": [
    "# Define parameter grid for GridSearchCV\n",
    "param_grid = {\n",
    "    'pca__n_components': [3,4,5, 7, 10],\n",
    "    'elasticnet__alpha': [0.1, 0.5, 1.0],\n",
    "    'elasticnet__l1_ratio': [0.2, 0.5, 0.8]\n",
    "}\n"
   ]
  },
  {
   "cell_type": "code",
   "execution_count": null,
   "id": "d2db5142-c4bf-4069-b142-79d2b5f9f83c",
   "metadata": {},
   "outputs": [],
   "source": [
    "# Set up GridSearchCV with make_pipeline\n",
    "grid_search = GridSearchCV(pipeline, param_grid, scoring='neg_mean_squared_error', cv=5)\n"
   ]
  },
  {
   "cell_type": "code",
   "execution_count": null,
   "id": "26961c3b-f4b8-4dae-a732-143805c7323b",
   "metadata": {},
   "outputs": [],
   "source": [
    "# Fit GridSearchCV\n",
    "run_model(grid_search,X_train,y_train,X_test,y_test)"
   ]
  },
  {
   "cell_type": "code",
   "execution_count": null,
   "id": "07750740-bf6b-497c-889a-c345e6997066",
   "metadata": {},
   "outputs": [],
   "source": [
    "grid_search.best_params_"
   ]
  },
  {
   "cell_type": "code",
   "execution_count": null,
   "id": "347fa51f-a200-40b4-bae0-ddc060c7146a",
   "metadata": {},
   "outputs": [],
   "source": []
  },
  {
   "cell_type": "markdown",
   "id": "e6a73dd7-f8f8-4d60-9f4e-0c5f81c0b578",
   "metadata": {},
   "source": [
    "### XGBoost"
   ]
  },
  {
   "cell_type": "code",
   "execution_count": null,
   "id": "f5cea30e-90a7-4393-9448-f23840c0180d",
   "metadata": {},
   "outputs": [],
   "source": [
    "from xgboost import XGBRegressor"
   ]
  },
  {
   "cell_type": "code",
   "execution_count": null,
   "id": "9bfcf636-5516-462f-b61d-33139054ddc8",
   "metadata": {},
   "outputs": [],
   "source": [
    "pipeline = make_pipeline(\n",
    "PCA(),       \n",
    "XGBRegressor()\n",
    ")"
   ]
  },
  {
   "cell_type": "code",
   "execution_count": null,
   "id": "d94ebb0a-c629-4d81-8116-a4d411663b37",
   "metadata": {},
   "outputs": [],
   "source": [
    "# Define parameter grid for GridSearchCV\n",
    "param_grid = {\n",
    "#    'pca__n_components': [3,4,5, 7, 10], #number of components to include\n",
    "    'pca__n_components': [0.8,0.95,None],#Percent of variance to keep,None keeps 100% variance\n",
    "    'xgbregressor__n_estimators': [50,100],\n",
    "    'xgbregressor__learning_rate': [0.1,0.2, 0.5],\n",
    "    'xgbregressor__max_depth': [3,5]\n",
    "}"
   ]
  },
  {
   "cell_type": "code",
   "execution_count": null,
   "id": "7c7715a0-9e1a-4277-9899-ccae82441669",
   "metadata": {},
   "outputs": [],
   "source": [
    "# Set up GridSearchCV with make_pipeline\n",
    "grid_search = GridSearchCV(pipeline, param_grid, scoring='neg_mean_squared_error', cv=5)"
   ]
  },
  {
   "cell_type": "code",
   "execution_count": null,
   "id": "0b1bc415-789b-4542-9ea3-7b926c912bf8",
   "metadata": {},
   "outputs": [],
   "source": [
    "# Fit GridSearchCV\n",
    "run_model(grid_search,X_train,y_train,X_test,y_test)"
   ]
  },
  {
   "cell_type": "code",
   "execution_count": null,
   "id": "99147147-4ca7-4a1a-ae10-78ff90f0f808",
   "metadata": {},
   "outputs": [],
   "source": [
    "grid_search.best_params_"
   ]
  },
  {
   "cell_type": "code",
   "execution_count": null,
   "id": "aa0b65a7-36e4-4101-a161-270fd557d1c3",
   "metadata": {},
   "outputs": [],
   "source": [
    "# Get the best pipeline\n",
    "best_pipeline = grid_search.best_estimator_\n",
    "# Access the PCA step\n",
    "best_pca = best_pipeline.named_steps['pca']"
   ]
  },
  {
   "cell_type": "code",
   "execution_count": null,
   "id": "c2426df4-aba1-476b-b2d1-b69f1d4ef9ee",
   "metadata": {},
   "outputs": [],
   "source": [
    " best_pca.n_components_"
   ]
  },
  {
   "cell_type": "code",
   "execution_count": null,
   "id": "f952bf25-d9e0-4081-ab59-370bde112864",
   "metadata": {},
   "outputs": [],
   "source": [
    "best_pca.explained_variance_ratio_"
   ]
  },
  {
   "cell_type": "code",
   "execution_count": null,
   "id": "bbb550cd-94e9-4964-bc65-264ca7e52604",
   "metadata": {},
   "outputs": [],
   "source": [
    "ls=best_pca.explained_variance_ratio_"
   ]
  },
  {
   "cell_type": "code",
   "execution_count": null,
   "id": "a5605aa2-e848-41ad-876d-af123c47d0a0",
   "metadata": {},
   "outputs": [],
   "source": [
    "ls.sum()"
   ]
  },
  {
   "cell_type": "code",
   "execution_count": null,
   "id": "f7aaf1fd-a80f-4bf6-83d2-f5633ae6f3a9",
   "metadata": {},
   "outputs": [],
   "source": [
    "#With keeping 100% varince PCA still applies a transformation to the data, converting it into its principal component space, but the number of dimensions remains the same as the original dataset.\n",
    "# We get worse performance with XGBRegreesor when combined with PCA, this is because \n",
    "# with PCA we are loosing non-linear patterns and interactions that are critical for XGBoost's performance\n"
   ]
  },
  {
   "cell_type": "code",
   "execution_count": null,
   "id": "28867f33-f66c-44e9-9ddf-fa9beae8481e",
   "metadata": {},
   "outputs": [],
   "source": []
  },
  {
   "cell_type": "markdown",
   "id": "6bba6176-d061-43ec-9c76-b024fa497235",
   "metadata": {},
   "source": [
    "# Visualizations with SHAP"
   ]
  },
  {
   "cell_type": "code",
   "execution_count": null,
   "id": "4692efe6-e57c-42ea-8791-d5c16d2e6d76",
   "metadata": {},
   "outputs": [],
   "source": [
    "#SHAP values (SHapley Additive exPlanations) is a method based on cooperative game theory\n",
    "#SHAP shows the contribution or the importance of each feature on the prediction of the model\n",
    "import shap"
   ]
  },
  {
   "cell_type": "code",
   "execution_count": null,
   "id": "3eadf960-9bc7-4e37-8e31-d0ea02c1d677",
   "metadata": {},
   "outputs": [],
   "source": [
    "y_test_pred=grid.predict(X_test)"
   ]
  },
  {
   "cell_type": "code",
   "execution_count": null,
   "id": "eb17088d-fb24-4f0a-8c24-0df383985eca",
   "metadata": {},
   "outputs": [],
   "source": [
    "feature_names=df.drop(\"selling_price\",axis=1).columns"
   ]
  },
  {
   "cell_type": "code",
   "execution_count": null,
   "id": "225b06ca-0a41-4484-b0ec-debd6e88f00a",
   "metadata": {},
   "outputs": [],
   "source": [
    "feature_names"
   ]
  },
  {
   "cell_type": "code",
   "execution_count": null,
   "id": "3e556ca0-e75d-4ec5-859e-c9f34b35aab7",
   "metadata": {},
   "outputs": [],
   "source": [
    "X_test_df = pd.DataFrame(X_test, columns=feature_names)"
   ]
  },
  {
   "cell_type": "code",
   "execution_count": null,
   "id": "fb7e7312-fe2d-4092-b8e1-f936f22830aa",
   "metadata": {},
   "outputs": [],
   "source": [
    "# Fits the explainer\n",
    "explainer = shap.Explainer(grid.predict,X_test_df)"
   ]
  },
  {
   "cell_type": "code",
   "execution_count": null,
   "id": "b46d29ed-67b5-4c4a-8cee-a296bdd57ad3",
   "metadata": {},
   "outputs": [],
   "source": [
    "# Calculates the SHAP values - It takes some time\n",
    "shap_values = explainer(X_test_df)"
   ]
  },
  {
   "cell_type": "code",
   "execution_count": null,
   "id": "a2935ddb-7f0b-4b74-9f0c-c911cbfe0c0a",
   "metadata": {},
   "outputs": [],
   "source": [
    "shap.plots.waterfall(shap_values[1])\n",
    "#shap.plots.waterfall(shap_values[1],show=False)\n",
    "#plt.savefig(\"Plots/Waterfall_onerow.png\",bbox_inches=\"tight\")"
   ]
  },
  {
   "cell_type": "code",
   "execution_count": null,
   "id": "3fc8730e-2133-43fc-bbbd-a509690fefca",
   "metadata": {},
   "outputs": [],
   "source": [
    "#x-axis has the values of car sales price. x is the chosen observation,\n",
    "#f(x) is the predicted value of the model, given input x and E[f(x)] is the the mean of all predictions\n",
    "#The SHAP value for each feature in this observation is given by the length of the bar\n",
    "#The sum of all SHAP values will be equal to E[f(x)] — f(x)."
   ]
  },
  {
   "cell_type": "code",
   "execution_count": null,
   "id": "5b815d6b-fe91-4841-a474-19607949c51e",
   "metadata": {},
   "outputs": [],
   "source": []
  },
  {
   "cell_type": "code",
   "execution_count": null,
   "id": "3e6cfe59-a1a6-48fc-8b5f-1341445928b8",
   "metadata": {},
   "outputs": [],
   "source": []
  },
  {
   "cell_type": "markdown",
   "id": "0b439694-7bba-4128-94b8-cfd8805b4e03",
   "metadata": {},
   "source": [
    "#### Bar plot"
   ]
  },
  {
   "cell_type": "code",
   "execution_count": null,
   "id": "9b9d7ed9-933c-48c4-af35-29de62a0dc49",
   "metadata": {
    "scrolled": true
   },
   "outputs": [],
   "source": [
    "shap.plots.bar(shap_values)\n",
    "#shap.plots.bar(shap_values,show=False)\n",
    "#plt.savefig(\"Plots/Feature_shapvalues.png\",bbox_inches=\"tight\")\n",
    "#Here the features are ordered from the highest to the lowest effect on the prediction. It takes in account the absolute SHAP value."
   ]
  },
  {
   "cell_type": "code",
   "execution_count": null,
   "id": "8d97f7d4-4f9c-473d-aeea-5fc3b2247183",
   "metadata": {},
   "outputs": [],
   "source": [
    "# Here the features are ordered from the highest to the lowest effect on the prediction.\n",
    "#It takes in account the absolute SHAP value, so it does not matter if the feature affects the prediction in a positive or negative way."
   ]
  },
  {
   "cell_type": "markdown",
   "id": "0ae59460-d323-4d69-8d2a-96d066401735",
   "metadata": {},
   "source": [
    "#### Summary plot: violin"
   ]
  },
  {
   "cell_type": "code",
   "execution_count": null,
   "id": "ba041924-0fbb-4dc5-9352-239cbbb7e769",
   "metadata": {},
   "outputs": [],
   "source": [
    "#shap.plots.beeswarm(shap_values)"
   ]
  },
  {
   "cell_type": "code",
   "execution_count": null,
   "id": "1b4d576b-7d65-4afe-8fa2-c0b67e67f54b",
   "metadata": {},
   "outputs": [],
   "source": [
    "#The features are ordered by their effect on prediction, \n",
    "#We can see how higher and lower values of the feature will affect the result."
   ]
  },
  {
   "cell_type": "code",
   "execution_count": null,
   "id": "fea08bf2-f257-452f-8433-3f6d590a2cd5",
   "metadata": {},
   "outputs": [],
   "source": [
    "shap.summary_plot(shap_values, plot_type='violin',show=False)\n",
    "#plt.savefig(\"Plots/Feature_shapvalues_violin.png\")"
   ]
  },
  {
   "cell_type": "code",
   "execution_count": null,
   "id": "9f3f9632-74eb-4550-937c-51a82ad6e7c6",
   "metadata": {},
   "outputs": [],
   "source": []
  }
 ],
 "metadata": {
  "kernelspec": {
   "display_name": "Python 3 (ipykernel)",
   "language": "python",
   "name": "python3"
  },
  "language_info": {
   "codemirror_mode": {
    "name": "ipython",
    "version": 3
   },
   "file_extension": ".py",
   "mimetype": "text/x-python",
   "name": "python",
   "nbconvert_exporter": "python",
   "pygments_lexer": "ipython3",
   "version": "3.11.7"
  }
 },
 "nbformat": 4,
 "nbformat_minor": 5
}
